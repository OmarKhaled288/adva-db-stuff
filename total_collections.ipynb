{
 "cells": [
  {
   "cell_type": "code",
   "execution_count": 1,
   "id": "4107ad83",
   "metadata": {},
   "outputs": [],
   "source": [
    "import pandas as pd\n",
    "import numpy as np\n",
    "from datetime import datetime, timedelta\n",
    "import os\n",
    "import pandas as pd\n",
    "from sqlalchemy import create_engine\n",
    "from dotenv import load_dotenv\n",
    "\n",
    "# Load credentials from .env file\n",
    "load_dotenv()\n",
    "\n",
    "DB_USER = os.getenv(\"DB_USER\")\n",
    "DB_PASSWORD = os.getenv(\"DB_PASSWORD\")\n",
    "DB_HOST = os.getenv(\"DB_HOST\")\n",
    "DB_PORT = os.getenv(\"DB_PORT\")\n",
    "DB_NAME = os.getenv(\"DB_NAME\")\n",
    "\n",
    "# Create database connection URL (for MySQL; change driver if needed)\n",
    "db_url = f\"mysql+pymysql://{DB_USER}:{DB_PASSWORD}@{DB_HOST}:{DB_PORT}/{DB_NAME}\"\n",
    "\n",
    "# Create SQLAlchemy engine\n",
    "engine = create_engine(db_url)"
   ]
  },
  {
   "cell_type": "code",
   "execution_count": 2,
   "id": "73488120",
   "metadata": {},
   "outputs": [],
   "source": [
    "# Step 1: Load base tables\n",
    "financialrequestinstallments = pd.read_sql(\n",
    "    \"SELECT FinancialRequestId, AcutalPaidAmount FROM financialrequestinstallments\", engine\n",
    ")\n",
    "financialrequests = pd.read_sql(\n",
    "    \"SELECT Id, CreatorId FROM financialrequests\", engine\n",
    ")\n",
    "abpusers = pd.read_sql(\n",
    "    \"SELECT Id, Name, ManagerId FROM abpusers\", engine\n",
    ")"
   ]
  },
  {
   "cell_type": "code",
   "execution_count": 3,
   "id": "4734b939",
   "metadata": {},
   "outputs": [
    {
     "data": {
      "text/html": [
       "<div>\n",
       "<style scoped>\n",
       "    .dataframe tbody tr th:only-of-type {\n",
       "        vertical-align: middle;\n",
       "    }\n",
       "\n",
       "    .dataframe tbody tr th {\n",
       "        vertical-align: top;\n",
       "    }\n",
       "\n",
       "    .dataframe thead th {\n",
       "        text-align: right;\n",
       "    }\n",
       "</style>\n",
       "<table border=\"1\" class=\"dataframe\">\n",
       "  <thead>\n",
       "    <tr style=\"text-align: right;\">\n",
       "      <th></th>\n",
       "      <th>FinancialRequestId</th>\n",
       "      <th>AcutalPaidAmount</th>\n",
       "      <th>CreatorId</th>\n",
       "    </tr>\n",
       "  </thead>\n",
       "  <tbody>\n",
       "    <tr>\n",
       "      <th>0</th>\n",
       "      <td>08dd3bb0-a253-415b-8fb0-f181c814eafc</td>\n",
       "      <td>0.0</td>\n",
       "      <td>None</td>\n",
       "    </tr>\n",
       "    <tr>\n",
       "      <th>1</th>\n",
       "      <td>08dd3bb0-a253-415b-8fb0-f181c814eafc</td>\n",
       "      <td>0.0</td>\n",
       "      <td>None</td>\n",
       "    </tr>\n",
       "    <tr>\n",
       "      <th>2</th>\n",
       "      <td>08dd3bb0-a253-415b-8fb0-f181c814eafc</td>\n",
       "      <td>0.0</td>\n",
       "      <td>None</td>\n",
       "    </tr>\n",
       "    <tr>\n",
       "      <th>3</th>\n",
       "      <td>08dd3bb0-a253-415b-8fb0-f181c814eafc</td>\n",
       "      <td>0.0</td>\n",
       "      <td>None</td>\n",
       "    </tr>\n",
       "    <tr>\n",
       "      <th>4</th>\n",
       "      <td>08dd3bb0-a253-415b-8fb0-f181c814eafc</td>\n",
       "      <td>0.0</td>\n",
       "      <td>None</td>\n",
       "    </tr>\n",
       "    <tr>\n",
       "      <th>...</th>\n",
       "      <td>...</td>\n",
       "      <td>...</td>\n",
       "      <td>...</td>\n",
       "    </tr>\n",
       "    <tr>\n",
       "      <th>851</th>\n",
       "      <td>08ddf138-d6ce-450f-8a45-83c4f1ff6c13</td>\n",
       "      <td>0.0</td>\n",
       "      <td>None</td>\n",
       "    </tr>\n",
       "    <tr>\n",
       "      <th>852</th>\n",
       "      <td>08ddf138-d6ce-450f-8a45-83c4f1ff6c13</td>\n",
       "      <td>0.0</td>\n",
       "      <td>None</td>\n",
       "    </tr>\n",
       "    <tr>\n",
       "      <th>853</th>\n",
       "      <td>08ddf138-d6ce-450f-8a45-83c4f1ff6c13</td>\n",
       "      <td>0.0</td>\n",
       "      <td>None</td>\n",
       "    </tr>\n",
       "    <tr>\n",
       "      <th>854</th>\n",
       "      <td>08ddf138-d6ce-450f-8a45-83c4f1ff6c13</td>\n",
       "      <td>0.0</td>\n",
       "      <td>None</td>\n",
       "    </tr>\n",
       "    <tr>\n",
       "      <th>855</th>\n",
       "      <td>08ddf138-d6ce-450f-8a45-83c4f1ff6c13</td>\n",
       "      <td>0.0</td>\n",
       "      <td>None</td>\n",
       "    </tr>\n",
       "  </tbody>\n",
       "</table>\n",
       "<p>856 rows × 3 columns</p>\n",
       "</div>"
      ],
      "text/plain": [
       "                       FinancialRequestId  AcutalPaidAmount CreatorId\n",
       "0    08dd3bb0-a253-415b-8fb0-f181c814eafc               0.0      None\n",
       "1    08dd3bb0-a253-415b-8fb0-f181c814eafc               0.0      None\n",
       "2    08dd3bb0-a253-415b-8fb0-f181c814eafc               0.0      None\n",
       "3    08dd3bb0-a253-415b-8fb0-f181c814eafc               0.0      None\n",
       "4    08dd3bb0-a253-415b-8fb0-f181c814eafc               0.0      None\n",
       "..                                    ...               ...       ...\n",
       "851  08ddf138-d6ce-450f-8a45-83c4f1ff6c13               0.0      None\n",
       "852  08ddf138-d6ce-450f-8a45-83c4f1ff6c13               0.0      None\n",
       "853  08ddf138-d6ce-450f-8a45-83c4f1ff6c13               0.0      None\n",
       "854  08ddf138-d6ce-450f-8a45-83c4f1ff6c13               0.0      None\n",
       "855  08ddf138-d6ce-450f-8a45-83c4f1ff6c13               0.0      None\n",
       "\n",
       "[856 rows x 3 columns]"
      ]
     },
     "execution_count": 3,
     "metadata": {},
     "output_type": "execute_result"
    }
   ],
   "source": [
    "# Step 2: Join installments → requests\n",
    "df = financialrequestinstallments.merge(\n",
    "    financialrequests,\n",
    "    left_on=\"FinancialRequestId\",\n",
    "    right_on=\"Id\",\n",
    "    how=\"inner\"\n",
    ").drop(columns=[\"Id\"])  # drop duplicate Id from requests\n",
    "df"
   ]
  },
  {
   "cell_type": "code",
   "execution_count": 4,
   "id": "22a49982",
   "metadata": {},
   "outputs": [
    {
     "data": {
      "text/html": [
       "<div>\n",
       "<style scoped>\n",
       "    .dataframe tbody tr th:only-of-type {\n",
       "        vertical-align: middle;\n",
       "    }\n",
       "\n",
       "    .dataframe tbody tr th {\n",
       "        vertical-align: top;\n",
       "    }\n",
       "\n",
       "    .dataframe thead th {\n",
       "        text-align: right;\n",
       "    }\n",
       "</style>\n",
       "<table border=\"1\" class=\"dataframe\">\n",
       "  <thead>\n",
       "    <tr style=\"text-align: right;\">\n",
       "      <th></th>\n",
       "      <th>FinancialRequestId</th>\n",
       "      <th>AcutalPaidAmount</th>\n",
       "      <th>CreatorId</th>\n",
       "      <th>Id</th>\n",
       "      <th>Name</th>\n",
       "      <th>ManagerId</th>\n",
       "    </tr>\n",
       "  </thead>\n",
       "  <tbody>\n",
       "  </tbody>\n",
       "</table>\n",
       "</div>"
      ],
      "text/plain": [
       "Empty DataFrame\n",
       "Columns: [FinancialRequestId, AcutalPaidAmount, CreatorId, Id, Name, ManagerId]\n",
       "Index: []"
      ]
     },
     "execution_count": 4,
     "metadata": {},
     "output_type": "execute_result"
    }
   ],
   "source": [
    "# Step 3: Join with users (officers)\n",
    "df = df.merge(\n",
    "    abpusers,\n",
    "    left_on=\"CreatorId\",\n",
    "    right_on=\"Id\",\n",
    "    how=\"inner\",\n",
    "    suffixes=(\"\", \"_user\")\n",
    ")\n",
    "df"
   ]
  },
  {
   "cell_type": "code",
   "execution_count": 5,
   "id": "d2b0c254",
   "metadata": {},
   "outputs": [
    {
     "data": {
      "text/html": [
       "<div>\n",
       "<style scoped>\n",
       "    .dataframe tbody tr th:only-of-type {\n",
       "        vertical-align: middle;\n",
       "    }\n",
       "\n",
       "    .dataframe tbody tr th {\n",
       "        vertical-align: top;\n",
       "    }\n",
       "\n",
       "    .dataframe thead th {\n",
       "        text-align: right;\n",
       "    }\n",
       "</style>\n",
       "<table border=\"1\" class=\"dataframe\">\n",
       "  <thead>\n",
       "    <tr style=\"text-align: right;\">\n",
       "      <th></th>\n",
       "      <th>FinancialRequestId</th>\n",
       "      <th>AcutalPaidAmount</th>\n",
       "      <th>CreatorId</th>\n",
       "      <th>Id</th>\n",
       "      <th>Name</th>\n",
       "      <th>ManagerId</th>\n",
       "    </tr>\n",
       "  </thead>\n",
       "  <tbody>\n",
       "  </tbody>\n",
       "</table>\n",
       "</div>"
      ],
      "text/plain": [
       "Empty DataFrame\n",
       "Columns: [FinancialRequestId, AcutalPaidAmount, CreatorId, Id, Name, ManagerId]\n",
       "Index: []"
      ]
     },
     "execution_count": 5,
     "metadata": {},
     "output_type": "execute_result"
    }
   ],
   "source": [
    "# Step 4: Ensure numeric type for AcutalPaidAmount\n",
    "df[\"AcutalPaidAmount\"] = pd.to_numeric(df[\"AcutalPaidAmount\"], errors=\"coerce\").fillna(0)\n",
    "df"
   ]
  },
  {
   "cell_type": "code",
   "execution_count": 6,
   "id": "27ffe95e",
   "metadata": {},
   "outputs": [
    {
     "data": {
      "text/html": [
       "<div>\n",
       "<style scoped>\n",
       "    .dataframe tbody tr th:only-of-type {\n",
       "        vertical-align: middle;\n",
       "    }\n",
       "\n",
       "    .dataframe tbody tr th {\n",
       "        vertical-align: top;\n",
       "    }\n",
       "\n",
       "    .dataframe thead th {\n",
       "        text-align: right;\n",
       "    }\n",
       "</style>\n",
       "<table border=\"1\" class=\"dataframe\">\n",
       "  <thead>\n",
       "    <tr style=\"text-align: right;\">\n",
       "      <th></th>\n",
       "      <th>CreatorId</th>\n",
       "      <th>Name</th>\n",
       "      <th>ManagerId</th>\n",
       "      <th>TotalCollectedAmount</th>\n",
       "    </tr>\n",
       "  </thead>\n",
       "  <tbody>\n",
       "  </tbody>\n",
       "</table>\n",
       "</div>"
      ],
      "text/plain": [
       "Empty DataFrame\n",
       "Columns: [CreatorId, Name, ManagerId, TotalCollectedAmount]\n",
       "Index: []"
      ]
     },
     "execution_count": 6,
     "metadata": {},
     "output_type": "execute_result"
    }
   ],
   "source": [
    "# Step 5: Group by officer\n",
    "agg_df = df.groupby(\n",
    "    [\"CreatorId\", \"Name\", \"ManagerId\"], as_index=False\n",
    ").agg(\n",
    "    TotalCollectedAmount=(\"AcutalPaidAmount\", \"sum\")\n",
    ")\n",
    "agg_df"
   ]
  },
  {
   "cell_type": "code",
   "execution_count": 7,
   "id": "5c369b91",
   "metadata": {},
   "outputs": [
    {
     "data": {
      "text/html": [
       "<div>\n",
       "<style scoped>\n",
       "    .dataframe tbody tr th:only-of-type {\n",
       "        vertical-align: middle;\n",
       "    }\n",
       "\n",
       "    .dataframe tbody tr th {\n",
       "        vertical-align: top;\n",
       "    }\n",
       "\n",
       "    .dataframe thead th {\n",
       "        text-align: right;\n",
       "    }\n",
       "</style>\n",
       "<table border=\"1\" class=\"dataframe\">\n",
       "  <thead>\n",
       "    <tr style=\"text-align: right;\">\n",
       "      <th></th>\n",
       "      <th>OfficerId</th>\n",
       "      <th>OfficerName</th>\n",
       "      <th>ManagerId</th>\n",
       "      <th>TotalCollectedAmount</th>\n",
       "    </tr>\n",
       "  </thead>\n",
       "  <tbody>\n",
       "  </tbody>\n",
       "</table>\n",
       "</div>"
      ],
      "text/plain": [
       "Empty DataFrame\n",
       "Columns: [OfficerId, OfficerName, ManagerId, TotalCollectedAmount]\n",
       "Index: []"
      ]
     },
     "execution_count": 7,
     "metadata": {},
     "output_type": "execute_result"
    }
   ],
   "source": [
    "# Step 6: Rename / format columns\n",
    "final_df = agg_df.rename(columns={\n",
    "    \"Name\": \"OfficerName\",\n",
    "    \"CreatorId\": \"OfficerId\",\n",
    "    \"ManagerId\": \"ManagerId\"\n",
    "}).sort_values(\"TotalCollectedAmount\", ascending=False).reset_index(drop=True)\n",
    "final_df"
   ]
  },
  {
   "cell_type": "code",
   "execution_count": null,
   "id": "043019c7",
   "metadata": {},
   "outputs": [],
   "source": []
  }
 ],
 "metadata": {
  "kernelspec": {
   "display_name": ".venv",
   "language": "python",
   "name": "python3"
  },
  "language_info": {
   "codemirror_mode": {
    "name": "ipython",
    "version": 3
   },
   "file_extension": ".py",
   "mimetype": "text/x-python",
   "name": "python",
   "nbconvert_exporter": "python",
   "pygments_lexer": "ipython3",
   "version": "3.13.7"
  }
 },
 "nbformat": 4,
 "nbformat_minor": 5
}
