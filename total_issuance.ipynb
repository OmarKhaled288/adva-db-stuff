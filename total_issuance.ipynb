{
 "cells": [
  {
   "cell_type": "code",
   "execution_count": 1,
   "id": "fcffcc3b",
   "metadata": {},
   "outputs": [],
   "source": [
    "import pandas as pd\n",
    "import numpy as np\n",
    "from datetime import datetime, timedelta\n",
    "import os\n",
    "import pandas as pd\n",
    "from sqlalchemy import create_engine\n",
    "from dotenv import load_dotenv\n",
    "\n",
    "# Load credentials from .env file\n",
    "load_dotenv()\n",
    "\n",
    "DB_USER = os.getenv(\"DB_USER\")\n",
    "DB_PASSWORD = os.getenv(\"DB_PASSWORD\")\n",
    "DB_HOST = os.getenv(\"DB_HOST\")\n",
    "DB_PORT = os.getenv(\"DB_PORT\")\n",
    "DB_NAME = os.getenv(\"DB_NAME\")\n",
    "\n",
    "# Create database connection URL (for MySQL; change driver if needed)\n",
    "db_url = f\"mysql+pymysql://{DB_USER}:{DB_PASSWORD}@{DB_HOST}:{DB_PORT}/{DB_NAME}\"\n",
    "\n",
    "# Create SQLAlchemy engine\n",
    "engine = create_engine(db_url)"
   ]
  },
  {
   "cell_type": "code",
   "execution_count": 5,
   "id": "d87f1161",
   "metadata": {},
   "outputs": [],
   "source": [
    "# Step 1: Load base tables\n",
    "financialrequests = pd.read_sql(\"SELECT Id, CreatorId, ApprovedAmount FROM financialrequests\", engine)\n",
    "abpusers = pd.read_sql(\"SELECT Id, UserName, ManagerId FROM abpusers\", engine)"
   ]
  },
  {
   "cell_type": "code",
   "execution_count": 6,
   "id": "988125c8",
   "metadata": {},
   "outputs": [
    {
     "data": {
      "text/html": [
       "<div>\n",
       "<style scoped>\n",
       "    .dataframe tbody tr th:only-of-type {\n",
       "        vertical-align: middle;\n",
       "    }\n",
       "\n",
       "    .dataframe tbody tr th {\n",
       "        vertical-align: top;\n",
       "    }\n",
       "\n",
       "    .dataframe thead th {\n",
       "        text-align: right;\n",
       "    }\n",
       "</style>\n",
       "<table border=\"1\" class=\"dataframe\">\n",
       "  <thead>\n",
       "    <tr style=\"text-align: right;\">\n",
       "      <th></th>\n",
       "      <th>Id_x</th>\n",
       "      <th>CreatorId</th>\n",
       "      <th>ApprovedAmount</th>\n",
       "      <th>Id_y</th>\n",
       "      <th>UserName</th>\n",
       "      <th>ManagerId</th>\n",
       "    </tr>\n",
       "  </thead>\n",
       "  <tbody>\n",
       "    <tr>\n",
       "      <th>0</th>\n",
       "      <td>3a08d703-fa37-56d4-cdd2-794b2ab38241</td>\n",
       "      <td>3a074590-6ced-5665-38bd-a50c9105bf36</td>\n",
       "      <td>1000.0</td>\n",
       "      <td>3a074590-6ced-5665-38bd-a50c9105bf36</td>\n",
       "      <td>sobhy</td>\n",
       "      <td>None</td>\n",
       "    </tr>\n",
       "    <tr>\n",
       "      <th>1</th>\n",
       "      <td>3a08d726-ba65-0faa-720e-839c2bbd779b</td>\n",
       "      <td>3a074590-6ced-5665-38bd-a50c9105bf36</td>\n",
       "      <td>326.0</td>\n",
       "      <td>3a074590-6ced-5665-38bd-a50c9105bf36</td>\n",
       "      <td>sobhy</td>\n",
       "      <td>None</td>\n",
       "    </tr>\n",
       "  </tbody>\n",
       "</table>\n",
       "</div>"
      ],
      "text/plain": [
       "                                   Id_x                             CreatorId  \\\n",
       "0  3a08d703-fa37-56d4-cdd2-794b2ab38241  3a074590-6ced-5665-38bd-a50c9105bf36   \n",
       "1  3a08d726-ba65-0faa-720e-839c2bbd779b  3a074590-6ced-5665-38bd-a50c9105bf36   \n",
       "\n",
       "   ApprovedAmount                                  Id_y UserName ManagerId  \n",
       "0          1000.0  3a074590-6ced-5665-38bd-a50c9105bf36    sobhy      None  \n",
       "1           326.0  3a074590-6ced-5665-38bd-a50c9105bf36    sobhy      None  "
      ]
     },
     "execution_count": 6,
     "metadata": {},
     "output_type": "execute_result"
    }
   ],
   "source": [
    "# Step 2: Join financialrequests with abpusers on CreatorId = u.Id\n",
    "df = financialrequests.merge(\n",
    "    abpusers,\n",
    "    left_on=\"CreatorId\",\n",
    "    right_on=\"Id\",\n",
    "    how=\"inner\"\n",
    ")\n",
    "df"
   ]
  },
  {
   "cell_type": "code",
   "execution_count": 23,
   "id": "bf8b0025",
   "metadata": {},
   "outputs": [
    {
     "data": {
      "text/html": [
       "<div>\n",
       "<style scoped>\n",
       "    .dataframe tbody tr th:only-of-type {\n",
       "        vertical-align: middle;\n",
       "    }\n",
       "\n",
       "    .dataframe tbody tr th {\n",
       "        vertical-align: top;\n",
       "    }\n",
       "\n",
       "    .dataframe thead th {\n",
       "        text-align: right;\n",
       "    }\n",
       "</style>\n",
       "<table border=\"1\" class=\"dataframe\">\n",
       "  <thead>\n",
       "    <tr style=\"text-align: right;\">\n",
       "      <th></th>\n",
       "      <th>OfficerId</th>\n",
       "      <th>TotalIssuedAmount</th>\n",
       "      <th>UserName</th>\n",
       "      <th>ManagerId</th>\n",
       "    </tr>\n",
       "  </thead>\n",
       "  <tbody>\n",
       "    <tr>\n",
       "      <th>0</th>\n",
       "      <td>3a074590-6ced-5665-38bd-a50c9105bf36</td>\n",
       "      <td>1326.0</td>\n",
       "      <td>sobhy</td>\n",
       "      <td>None</td>\n",
       "    </tr>\n",
       "  </tbody>\n",
       "</table>\n",
       "</div>"
      ],
      "text/plain": [
       "                              OfficerId  TotalIssuedAmount UserName ManagerId\n",
       "0  3a074590-6ced-5665-38bd-a50c9105bf36             1326.0    sobhy      None"
      ]
     },
     "execution_count": 23,
     "metadata": {},
     "output_type": "execute_result"
    }
   ],
   "source": [
    "# Step 3: Aggregate (GROUP BY u.Id, u.Name)\n",
    "agg_df = df.groupby(\n",
    "    [\"Id_y\"], as_index=False\n",
    ").agg(\n",
    "    TotalIssuedAmount=(\"ApprovedAmount\", \"sum\")\n",
    ").rename(\n",
    "    columns={\n",
    "        \"Id_y\": \"OfficerId\"\n",
    "    }\n",
    ").merge(\n",
    "    abpusers,\n",
    "    left_on=\"OfficerId\",\n",
    "    right_on=\"Id\",\n",
    "    how=\"left\"\n",
    ").drop(\n",
    "    columns=[\"Id\"]\n",
    ")\n",
    "agg_df"
   ]
  },
  {
   "cell_type": "code",
   "execution_count": 24,
   "id": "6a22a64a",
   "metadata": {},
   "outputs": [
    {
     "data": {
      "text/html": [
       "<div>\n",
       "<style scoped>\n",
       "    .dataframe tbody tr th:only-of-type {\n",
       "        vertical-align: middle;\n",
       "    }\n",
       "\n",
       "    .dataframe tbody tr th {\n",
       "        vertical-align: top;\n",
       "    }\n",
       "\n",
       "    .dataframe thead th {\n",
       "        text-align: right;\n",
       "    }\n",
       "</style>\n",
       "<table border=\"1\" class=\"dataframe\">\n",
       "  <thead>\n",
       "    <tr style=\"text-align: right;\">\n",
       "      <th></th>\n",
       "      <th>OfficerId</th>\n",
       "      <th>TotalIssuedAmount</th>\n",
       "      <th>OfficerName</th>\n",
       "      <th>ManagerId</th>\n",
       "    </tr>\n",
       "  </thead>\n",
       "  <tbody>\n",
       "    <tr>\n",
       "      <th>0</th>\n",
       "      <td>3a074590-6ced-5665-38bd-a50c9105bf36</td>\n",
       "      <td>1326.0</td>\n",
       "      <td>sobhy</td>\n",
       "      <td>None</td>\n",
       "    </tr>\n",
       "  </tbody>\n",
       "</table>\n",
       "</div>"
      ],
      "text/plain": [
       "                              OfficerId  TotalIssuedAmount OfficerName  \\\n",
       "0  3a074590-6ced-5665-38bd-a50c9105bf36             1326.0       sobhy   \n",
       "\n",
       "  ManagerId  \n",
       "0      None  "
      ]
     },
     "execution_count": 24,
     "metadata": {},
     "output_type": "execute_result"
    }
   ],
   "source": [
    "# Step 4: Rename / format columns\n",
    "final_df = agg_df.rename(columns={\n",
    "    \"UserName\": \"OfficerName\",\n",
    "})\n",
    "\n",
    "# Step 5: Order by TotalIssuedAmount DESC\n",
    "final_df = final_df.sort_values(\"TotalIssuedAmount\", ascending=False).reset_index(drop=True)\n",
    "final_df"
   ]
  },
  {
   "cell_type": "code",
   "execution_count": null,
   "id": "7da74ba4",
   "metadata": {},
   "outputs": [],
   "source": []
  }
 ],
 "metadata": {
  "kernelspec": {
   "display_name": ".venv",
   "language": "python",
   "name": "python3"
  },
  "language_info": {
   "codemirror_mode": {
    "name": "ipython",
    "version": 3
   },
   "file_extension": ".py",
   "mimetype": "text/x-python",
   "name": "python",
   "nbconvert_exporter": "python",
   "pygments_lexer": "ipython3",
   "version": "3.13.7"
  }
 },
 "nbformat": 4,
 "nbformat_minor": 5
}
